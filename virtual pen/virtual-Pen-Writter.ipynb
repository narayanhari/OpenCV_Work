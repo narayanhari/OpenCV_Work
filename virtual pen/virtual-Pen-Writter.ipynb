{
 "cells": [
  {
   "cell_type": "code",
   "execution_count": 1,
   "metadata": {},
   "outputs": [],
   "source": [
    "import numpy as np\n",
    "import time\n",
    "import cv2"
   ]
  },
  {
   "cell_type": "code",
   "execution_count": 2,
   "metadata": {},
   "outputs": [],
   "source": [
    "cap=cv2.VideoCapture(0)\n",
    "# cv2.namedWindow(\"NHM\")"
   ]
  },
  {
   "cell_type": "code",
   "execution_count": 3,
   "metadata": {},
   "outputs": [],
   "source": [
    "fourcc = cv2.VideoWriter_fourcc(*'XVID')\n",
    "out = cv2.VideoWriter('a.avi', fourcc, 20.0, (640, 480))"
   ]
  },
  {
   "cell_type": "code",
   "execution_count": 4,
   "metadata": {},
   "outputs": [],
   "source": [
    "lower_array=np.array([ 75, 126,  71])  \n",
    "upper_array=np.array([179, 255, 255]) \n",
    "kernel=np.ones((5,5),np.uint8)\n",
    "x1,y1=0,0"
   ]
  },
  {
   "cell_type": "code",
   "execution_count": 5,
   "metadata": {},
   "outputs": [
    {
     "data": {
      "text/plain": [
       "array([[1, 1, 1, 1, 1],\n",
       "       [1, 1, 1, 1, 1],\n",
       "       [1, 1, 1, 1, 1],\n",
       "       [1, 1, 1, 1, 1],\n",
       "       [1, 1, 1, 1, 1]], dtype=uint8)"
      ]
     },
     "execution_count": 5,
     "metadata": {},
     "output_type": "execute_result"
    }
   ],
   "source": [
    "kernel"
   ]
  },
  {
   "cell_type": "code",
   "execution_count": 6,
   "metadata": {},
   "outputs": [],
   "source": [
    "i=1\n",
    "font = cv2.FONT_HERSHEY_SIMPLEX \n",
    "org = (50, 50)\n",
    "fontScale = 1\n",
    "color = (255, 0, 0)\n",
    "thickness = 2\n",
    "erase=-1\n",
    "draw=None\n",
    "while True:\n",
    "    x,img=cap.read()\n",
    "    if x is False:\n",
    "        break\n",
    "    if draw is None:\n",
    "        draw=np.zeros_like(img)\n",
    "    img=cv2.flip(img,1)\n",
    "    hsv_image=cv2.cvtColor(img,cv2.COLOR_BGR2HSV)\n",
    "    mask = cv2.inRange(hsv_image, lower_array, upper_array)\n",
    "    mask=cv2.erode(mask,kernel,iterations=i)\n",
    "    mask=cv2.dilate(mask,kernel,iterations=i)\n",
    "    res = cv2.bitwise_or(img, img, mask=mask)\n",
    "    \n",
    "    contours, hierarchy = cv2.findContours(mask, cv2.RETR_EXTERNAL,cv2.CHAIN_APPROX_SIMPLE)\n",
    "    if len(contours) >0:\n",
    "#         print(len(contours))\n",
    "        areas = [cv2.contourArea(c) for c in contours]\n",
    "        max_index = np.argmax(areas)\n",
    "        cnt=contours[max_index]\n",
    "        if cv2.contourArea(contours[max_index])>600:\n",
    "#             cv2.drawContours(img,contours,max_index,(0,0,0))\n",
    "            xNew,yNew,w,h = cv2.boundingRect(cnt)\n",
    "#             print(\"New cor\",xNew,yNew)\n",
    "            \n",
    "            if x1==0 and y1==0:\n",
    "                x1,y1=xNew,yNew\n",
    "            else:\n",
    "                if erase==-1:\n",
    "                    draw=cv2.line(draw,(x1,y1),(xNew,yNew),[255,255,255],10)\n",
    "                    img = cv2.putText(img, 'Pen Mode', org, font,fontScale, color, thickness, cv2.LINE_AA)\n",
    "                elif erase==1:\n",
    "                    draw=cv2.line(draw,(x1,y1),(xNew,yNew),[0,0,0],15)\n",
    "                    img = cv2.putText(img, 'Erase Mode', org, font,fontScale, color, thickness, cv2.LINE_AA)\n",
    "#                 print(\"sad\")\n",
    "                \n",
    "            x1,y1=xNew,yNew\n",
    "#             print(\"old cor\",x1,y1)\n",
    "        else:\n",
    "            x1,y1=0,0\n",
    "    img1=cv2.add(img,draw)\n",
    "#     i+=1\n",
    "#     mask= cv2.cvtColor(mask, cv2.COLOR_GRAY2BGR)\n",
    "    allImage=np.hstack((img,draw,img1))\n",
    "    out.write(cv2.resize(allImage,None,fx=0.7,fy=0.7))\n",
    "    cv2.imshow(\"NHM\",cv2.resize(allImage,None,fx=0.7,fy=0.7))\n",
    "#     cv2.imshow(\"NHM\",img)\n",
    "    if cv2.waitKey(1) == 27:\n",
    "        draw = None\n",
    "    if cv2.waitKey(1) == ord('d'):\n",
    "        erase=-1\n",
    "    if cv2.waitKey(1) == ord('e'):\n",
    "        erase=1        \n",
    "    if cv2.waitKey(1) == 13:\n",
    "        break\n",
    "    \n",
    "\n",
    "cv2.destroyAllWindows()"
   ]
  },
  {
   "cell_type": "code",
   "execution_count": 7,
   "metadata": {},
   "outputs": [
    {
     "data": {
      "text/plain": [
       "[8.0]"
      ]
     },
     "execution_count": 7,
     "metadata": {},
     "output_type": "execute_result"
    }
   ],
   "source": [
    "areas"
   ]
  },
  {
   "cell_type": "code",
   "execution_count": 8,
   "metadata": {},
   "outputs": [],
   "source": [
    "cap.release()\n",
    "out.release()"
   ]
  },
  {
   "cell_type": "code",
   "execution_count": 13,
   "metadata": {},
   "outputs": [
    {
     "data": {
      "text/plain": [
       "(480, 640, 3)"
      ]
     },
     "execution_count": 13,
     "metadata": {},
     "output_type": "execute_result"
    }
   ],
   "source": [
    "img.shape"
   ]
  },
  {
   "cell_type": "code",
   "execution_count": null,
   "metadata": {},
   "outputs": [],
   "source": []
  }
 ],
 "metadata": {
  "kernelspec": {
   "display_name": "Python 3",
   "language": "python",
   "name": "python3"
  },
  "language_info": {
   "codemirror_mode": {
    "name": "ipython",
    "version": 3
   },
   "file_extension": ".py",
   "mimetype": "text/x-python",
   "name": "python",
   "nbconvert_exporter": "python",
   "pygments_lexer": "ipython3",
   "version": "3.7.7"
  }
 },
 "nbformat": 4,
 "nbformat_minor": 4
}
